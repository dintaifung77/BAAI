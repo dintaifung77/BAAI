{
  "cells": [
    {
      "cell_type": "markdown",
      "metadata": {},
      "source": [
        "---\n",
        "title: 'Data Analysis'\n",
        "author: 'Zachary Belgum'\n",
        "Institute: 'Tunghai University' \n",
        "number-sections: true\n",
        "toc: true\n",
        "execute:\n",
        "    daemon: true\n",
        "format: \n",
        "    html:\n",
        "         embed-resources: true\n",
        "---\n",
        "\n",
        "\n",
        "## Key Points\n",
        "\n",
        "- Data loading\n",
        "- Data inspection\n",
        "    - Structure\n",
        "    - Value\n",
        "- Data Cleaning\n",
        "    - Dealing with missing data\n",
        "    - Detect outliers\n",
        "- Data transformation\n",
        "    - Encoding\n",
        "\n",
        "Removing Duplicates\n",
        "\n",
        "## Load Dataset\n",
        "\n",
        "Load dataset from CSV file into `df` using pandas"
      ],
      "id": "fb845f95"
    },
    {
      "cell_type": "code",
      "metadata": {},
      "source": [
        "import pandas as pd\n",
        "df = pd.read_csv('customer_data.csv')"
      ],
      "id": "62acf2a9",
      "execution_count": null,
      "outputs": []
    },
    {
      "cell_type": "markdown",
      "metadata": {},
      "source": [
        "## Data Inspection\n",
        "\n",
        "### Dimensions of dataset\n"
      ],
      "id": "ea420c16"
    },
    {
      "cell_type": "code",
      "metadata": {},
      "source": [
        "df.shape"
      ],
      "id": "6d57f1ba",
      "execution_count": null,
      "outputs": []
    },
    {
      "cell_type": "markdown",
      "metadata": {},
      "source": [
        "### Column Data type\n"
      ],
      "id": "6794817c"
    },
    {
      "cell_type": "code",
      "metadata": {},
      "source": [
        "df.info()"
      ],
      "id": "aa9868f6",
      "execution_count": null,
      "outputs": []
    },
    {
      "cell_type": "markdown",
      "metadata": {},
      "source": [
        "## Check first few rows\n"
      ],
      "id": "5f90f2a4"
    },
    {
      "cell_type": "code",
      "metadata": {},
      "source": [
        "df.head()"
      ],
      "id": "b7723d28",
      "execution_count": null,
      "outputs": []
    },
    {
      "cell_type": "markdown",
      "metadata": {},
      "source": [
        "## Check last few rows\n"
      ],
      "id": "08a5d375"
    },
    {
      "cell_type": "code",
      "metadata": {},
      "source": [
        "df.tail()"
      ],
      "id": "9a757f0c",
      "execution_count": null,
      "outputs": []
    },
    {
      "cell_type": "markdown",
      "metadata": {},
      "source": [
        "## Basic statistics\n"
      ],
      "id": "005d7b74"
    },
    {
      "cell_type": "code",
      "metadata": {},
      "source": [
        "df.describe()"
      ],
      "id": "73c9431a",
      "execution_count": null,
      "outputs": []
    },
    {
      "cell_type": "markdown",
      "metadata": {},
      "source": [
        "## Round to 2 decimal points\n"
      ],
      "id": "8bc3d25e"
    },
    {
      "cell_type": "code",
      "metadata": {},
      "source": [
        "df.describe().round(2)"
      ],
      "id": "95c3ae84",
      "execution_count": null,
      "outputs": []
    },
    {
      "cell_type": "markdown",
      "metadata": {},
      "source": [
        "## Dataset\n"
      ],
      "id": "1b86ed96"
    },
    {
      "cell_type": "code",
      "metadata": {},
      "source": [
        "#| echo: false\n",
        "df"
      ],
      "id": "9f529e30",
      "execution_count": null,
      "outputs": []
    },
    {
      "cell_type": "markdown",
      "metadata": {},
      "source": [
        "## Visualization\n",
        "## Correlation among columns\n"
      ],
      "id": "96c0cf41"
    },
    {
      "cell_type": "code",
      "metadata": {},
      "source": [
        "df.plot.scatter(x = 'Age', y = 'Income')\n",
        "plt.show()\n",
        "# import seaborn as sns\n",
        "# sns.pairplot(df)"
      ],
      "id": "cde55bde",
      "execution_count": null,
      "outputs": []
    },
    {
      "cell_type": "markdown",
      "metadata": {},
      "source": [
        "## Data Cleaning\n"
      ],
      "id": "e27fb4ff"
    },
    {
      "cell_type": "code",
      "metadata": {},
      "source": [
        "df = df.drop_duplicates(subset='CustomerID')"
      ],
      "id": "ef1e31cb",
      "execution_count": null,
      "outputs": []
    },
    {
      "cell_type": "markdown",
      "metadata": {},
      "source": [
        "## Dealing with Missing Data\n",
        "\n",
        "### Imputing\n"
      ],
      "id": "7d4096cd"
    },
    {
      "cell_type": "code",
      "metadata": {},
      "source": [
        "df.loc[df['Age'].isna(), 'Age'] = df['Age'].median()\n",
        "df.loc[df['Income'].isna(), 'Income'] = df['Income'].mean()"
      ],
      "id": "cadcaa11",
      "execution_count": null,
      "outputs": []
    },
    {
      "cell_type": "markdown",
      "metadata": {},
      "source": [
        "### Removing\n"
      ],
      "id": "937901ad"
    },
    {
      "cell_type": "code",
      "metadata": {},
      "source": [
        "df = df.dropna(subset=['Gender'])"
      ],
      "id": "8625cbbb",
      "execution_count": null,
      "outputs": []
    },
    {
      "cell_type": "markdown",
      "metadata": {},
      "source": [
        "## Outlier Detection and Treatment\n"
      ],
      "id": "d45a3484"
    },
    {
      "cell_type": "code",
      "metadata": {},
      "source": [
        "Q1 = df['Income'].quantile(0.25)\n",
        "Q3 = df['Income'].quantile(0.75)\n",
        "IQR = Q3 - Q1\n",
        "lower_bound = Q1 - 1.5 * IQR\n",
        "upper_bound = Q3 + 1.5 * IQR"
      ],
      "id": "4f03f701",
      "execution_count": null,
      "outputs": []
    },
    {
      "cell_type": "markdown",
      "metadata": {},
      "source": [
        "df.loc[df['Income'] > upper_bound, 'Income'] = upper_bound\n",
        "df.loc[df['Income'] < lower_bound, 'Income'] = lower_bound\n",
        "\n",
        "## Data Transformation\n",
        "## Normalizing: 0 ≤ x ≤ 1\n",
        "## Standardizing: mean=0, sd=1\n",
        "## Before encoding\n",
        "## Encoding: M->0, F->1\n",
        "## After encoding"
      ],
      "id": "1e51ee49"
    }
  ],
  "metadata": {
    "kernelspec": {
      "display_name": "Python 3",
      "language": "python",
      "name": "python3"
    }
  },
  "nbformat": 4,
  "nbformat_minor": 5
}