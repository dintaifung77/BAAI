{
  "cells": [
    {
      "cell_type": "markdown",
      "metadata": {},
      "source": [
        "---\n",
        "title: 'Data Analysis'\n",
        "author: 'Zachary Belgum'\n",
        "Institute: 'Tunghai University' \n",
        "number-sections: true\n",
        "toc: true\n",
        "execute:\n",
        "    daemon: true\n",
        "format: \n",
        "    html:\n",
        "         embed-resources: true\n",
        "---\n",
        "\n",
        "\n",
        "## Key Points\n",
        "\n",
        "- Data loading\n",
        "- Data inspection\n",
        "    - Structure\n",
        "    - Value\n",
        "- Data Cleaning\n",
        "    - Dealing with missing data\n",
        "    - Detect outliers\n",
        "- Data transformation\n",
        "    - Encoding\n",
        "\n",
        "Removing Duplicates\n",
        "\n",
        "## Load Dataset\n",
        "\n",
        "Load dataset from CSV file into df using pandas\n"
      ],
      "id": "c70467cc"
    },
    {
      "cell_type": "code",
      "metadata": {},
      "source": [
        "import pandas as pd\n",
        "df = pd.read_csv('customer_data.csv')"
      ],
      "id": "f568a0f6",
      "execution_count": null,
      "outputs": []
    },
    {
      "cell_type": "markdown",
      "metadata": {},
      "source": [
        "## Data Inspection\n",
        "\n",
        "- Structure\n",
        "    - Dimension of dataset\n",
        "    - Column data type\n",
        "- Value\n",
        "    - Missing value\n",
        "    - Outliers\n",
        "\n",
        "### Dimensions of dataset\n"
      ],
      "id": "b76adbfc"
    },
    {
      "cell_type": "code",
      "metadata": {},
      "source": [
        "df.shape"
      ],
      "id": "207ec3e2",
      "execution_count": null,
      "outputs": []
    },
    {
      "cell_type": "markdown",
      "metadata": {},
      "source": [
        "### Column Data type\n"
      ],
      "id": "5f9b3ff7"
    },
    {
      "cell_type": "code",
      "metadata": {},
      "source": [
        "df.info()"
      ],
      "id": "46a5e103",
      "execution_count": null,
      "outputs": []
    },
    {
      "cell_type": "markdown",
      "metadata": {},
      "source": [
        "## Check first few rows\n"
      ],
      "id": "f620e76e"
    },
    {
      "cell_type": "code",
      "metadata": {},
      "source": [
        "df.head()"
      ],
      "id": "32af13d2",
      "execution_count": null,
      "outputs": []
    },
    {
      "cell_type": "markdown",
      "metadata": {},
      "source": [
        "## Check last few rows\n"
      ],
      "id": "91f03194"
    },
    {
      "cell_type": "code",
      "metadata": {},
      "source": [
        "df.tail()"
      ],
      "id": "0a0bf0fe",
      "execution_count": null,
      "outputs": []
    },
    {
      "cell_type": "markdown",
      "metadata": {},
      "source": [
        "## Basic statistics\n"
      ],
      "id": "aeab5fd4"
    },
    {
      "cell_type": "code",
      "metadata": {},
      "source": [
        "df.describe()"
      ],
      "id": "a003e906",
      "execution_count": null,
      "outputs": []
    },
    {
      "cell_type": "markdown",
      "metadata": {},
      "source": [
        "## Round to 2 decimal points\n"
      ],
      "id": "c3e9739a"
    },
    {
      "cell_type": "code",
      "metadata": {},
      "source": [
        "df.describe().round(2)"
      ],
      "id": "cbc2fa90",
      "execution_count": null,
      "outputs": []
    },
    {
      "cell_type": "markdown",
      "metadata": {},
      "source": [
        "## Dataset\n"
      ],
      "id": "0b363d68"
    },
    {
      "cell_type": "code",
      "metadata": {},
      "source": [
        "#| echo: false\n",
        "df"
      ],
      "id": "bcc5062e",
      "execution_count": null,
      "outputs": []
    },
    {
      "cell_type": "markdown",
      "metadata": {},
      "source": [
        "## Visualization\n"
      ],
      "id": "14374b2c"
    },
    {
      "cell_type": "code",
      "metadata": {},
      "source": [
        "import matplotlib.pylab as plt\n",
        "df['Age'].hist()\n",
        "plt.show()"
      ],
      "id": "5a72c336",
      "execution_count": null,
      "outputs": []
    },
    {
      "cell_type": "markdown",
      "metadata": {},
      "source": [
        "## Correlation among columns\n"
      ],
      "id": "1c415120"
    },
    {
      "cell_type": "code",
      "metadata": {},
      "source": [
        "df.plot.scatter(x = 'Age', y = 'Income')\n",
        "plt.show()\n",
        "# import seaborn as sns\n",
        "# sns.pairplot(df)"
      ],
      "id": "1d169c5d",
      "execution_count": null,
      "outputs": []
    },
    {
      "cell_type": "markdown",
      "metadata": {},
      "source": [
        "## Data Cleaning\n"
      ],
      "id": "0fe28a40"
    },
    {
      "cell_type": "code",
      "metadata": {},
      "source": [
        "df = df.drop_duplicates(subset='CustomerID')"
      ],
      "id": "0ba620a5",
      "execution_count": null,
      "outputs": []
    },
    {
      "cell_type": "markdown",
      "metadata": {},
      "source": [
        "## Dealing with Missing Data\n",
        "\n",
        "- Imputing\n"
      ],
      "id": "93329516"
    },
    {
      "cell_type": "code",
      "metadata": {},
      "source": [
        "df.loc[df['Age'].isna(), 'Age'] = df['Age'].median()\n",
        "df.loc[df['Income'].isna(), 'Income'] = df['Income'].mean()"
      ],
      "id": "4002e83a",
      "execution_count": null,
      "outputs": []
    },
    {
      "cell_type": "markdown",
      "metadata": {},
      "source": [
        "- Removing\n"
      ],
      "id": "bf138e97"
    },
    {
      "cell_type": "code",
      "metadata": {},
      "source": [
        "df = df.dropna(subset=['Gender'])"
      ],
      "id": "561ff511",
      "execution_count": null,
      "outputs": []
    },
    {
      "cell_type": "markdown",
      "metadata": {},
      "source": [
        "## Outlier Detection and Treatment\n"
      ],
      "id": "11fc557b"
    },
    {
      "cell_type": "code",
      "metadata": {},
      "source": [
        "Q1 = df['Income'].quantile(0.25)\n",
        "Q3 = df['Income'].quantile(0.75)\n",
        "IQR = Q3 - Q1\n",
        "lower_bound = Q1 - 1.5 * IQR\n",
        "upper_bound = Q3 + 1.5 * IQR"
      ],
      "id": "2edd2c99",
      "execution_count": null,
      "outputs": []
    },
    {
      "cell_type": "code",
      "metadata": {},
      "source": [
        "df.loc[df['Income'] > upper_bound, 'Income'] = upper_bound\n",
        "df.loc[df['Income'] < lower_bound, 'Income'] = lower_bound"
      ],
      "id": "98714779",
      "execution_count": null,
      "outputs": []
    },
    {
      "cell_type": "markdown",
      "metadata": {},
      "source": [
        "## Data Transformation\n",
        "\n",
        "## Before encoding\n",
        "\n",
        "## Encoding: M->0, F->1\n"
      ],
      "id": "dd8bfe78"
    },
    {
      "cell_type": "code",
      "metadata": {},
      "source": [
        "df.loc[:,'Gender_encoded'] = df['Gender'].map({'M': 0, 'F': 1})"
      ],
      "id": "64d24c38",
      "execution_count": null,
      "outputs": []
    },
    {
      "cell_type": "markdown",
      "metadata": {},
      "source": [
        "## After encoding"
      ],
      "id": "7285afca"
    }
  ],
  "metadata": {
    "kernelspec": {
      "display_name": "Python 3",
      "language": "python",
      "name": "python3"
    }
  },
  "nbformat": 4,
  "nbformat_minor": 5
}