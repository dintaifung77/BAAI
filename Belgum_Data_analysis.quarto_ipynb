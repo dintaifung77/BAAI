{
  "cells": [
    {
      "cell_type": "markdown",
      "metadata": {},
      "source": [
        "---\n",
        "title: 'Data Analysis'\n",
        "author: 'Zachary Belgum'\n",
        "Institute: 'Tunghai University' \n",
        "number-sections: true\n",
        "toc: true\n",
        "execute:\n",
        "    daemon: true\n",
        "format: \n",
        "    html:\n",
        "         embed-resources: true\n",
        "---\n",
        "\n",
        "\n",
        "## Key Points\n",
        "\n",
        "- Data loading\n",
        "- Data inspection\n",
        "    - Structure\n",
        "    - Value\n",
        "- Data Cleaning\n",
        "    - Dealing with missing data\n",
        "    - Detect outliers\n",
        "- Data transformation\n",
        "    - Encoding\n",
        "\n",
        "Removing Duplicates\n",
        "\n",
        "## Load Dataset\n",
        "\n",
        "Load dataset from CSV file into df using pandas\n"
      ],
      "id": "8f4e81b5"
    },
    {
      "cell_type": "code",
      "metadata": {},
      "source": [
        "import pandas as pd\n",
        "df = pd.read_csv('customer_data.csv')"
      ],
      "id": "78364c34",
      "execution_count": null,
      "outputs": []
    },
    {
      "cell_type": "markdown",
      "metadata": {},
      "source": [
        "## Data Inspection\n",
        "\n",
        "### Dimensions of dataset\n"
      ],
      "id": "cd7e0230"
    },
    {
      "cell_type": "code",
      "metadata": {},
      "source": [
        "df.shape"
      ],
      "id": "548b6733",
      "execution_count": null,
      "outputs": []
    },
    {
      "cell_type": "markdown",
      "metadata": {},
      "source": [
        "### Column Data type\n"
      ],
      "id": "563ace0f"
    },
    {
      "cell_type": "code",
      "metadata": {},
      "source": [
        "df.info()"
      ],
      "id": "b9198b47",
      "execution_count": null,
      "outputs": []
    },
    {
      "cell_type": "markdown",
      "metadata": {},
      "source": [
        "## Check first few rows\n"
      ],
      "id": "22575078"
    },
    {
      "cell_type": "code",
      "metadata": {},
      "source": [
        "df.head()"
      ],
      "id": "895dd163",
      "execution_count": null,
      "outputs": []
    },
    {
      "cell_type": "markdown",
      "metadata": {},
      "source": [
        "## Check last few rows\n"
      ],
      "id": "3dd4b961"
    },
    {
      "cell_type": "code",
      "metadata": {},
      "source": [
        "df.tail()"
      ],
      "id": "0603f78d",
      "execution_count": null,
      "outputs": []
    },
    {
      "cell_type": "markdown",
      "metadata": {},
      "source": [
        "## Basic statistics\n"
      ],
      "id": "d10fe756"
    },
    {
      "cell_type": "code",
      "metadata": {},
      "source": [
        "df.describe()"
      ],
      "id": "8eb572ce",
      "execution_count": null,
      "outputs": []
    },
    {
      "cell_type": "markdown",
      "metadata": {},
      "source": [
        "## Round to 2 decimal points\n"
      ],
      "id": "b425d82a"
    },
    {
      "cell_type": "code",
      "metadata": {},
      "source": [
        "df.describe().round(2)"
      ],
      "id": "bc30b5cc",
      "execution_count": null,
      "outputs": []
    },
    {
      "cell_type": "markdown",
      "metadata": {},
      "source": [
        "## Dataset\n"
      ],
      "id": "365d38d3"
    },
    {
      "cell_type": "code",
      "metadata": {},
      "source": [
        "#| echo: false\n",
        "df"
      ],
      "id": "ff809675",
      "execution_count": null,
      "outputs": []
    },
    {
      "cell_type": "markdown",
      "metadata": {},
      "source": [
        "## Visualization\n",
        "## Correlation among columns\n"
      ],
      "id": "6985bd30"
    },
    {
      "cell_type": "code",
      "metadata": {},
      "source": [
        "df.plot.scatter(x = 'Age', y = 'Income')\n",
        "plt.show()\n",
        "# import seaborn as sns\n",
        "# sns.pairplot(df)"
      ],
      "id": "9d03fa89",
      "execution_count": null,
      "outputs": []
    },
    {
      "cell_type": "markdown",
      "metadata": {},
      "source": [
        "## Data Cleaning\n"
      ],
      "id": "4cc89cc9"
    },
    {
      "cell_type": "code",
      "metadata": {},
      "source": [
        "df = df.drop_duplicates(subset='CustomerID')"
      ],
      "id": "f4ac6235",
      "execution_count": null,
      "outputs": []
    },
    {
      "cell_type": "markdown",
      "metadata": {},
      "source": [
        "## Dealing with Missing Data\n",
        "\n",
        "### Imputing\n"
      ],
      "id": "e802ce02"
    },
    {
      "cell_type": "code",
      "metadata": {},
      "source": [
        "df.loc[df['Age'].isna(), 'Age'] = df['Age'].median()\n",
        "df.loc[df['Income'].isna(), 'Income'] = df['Income'].mean()"
      ],
      "id": "491086b3",
      "execution_count": null,
      "outputs": []
    },
    {
      "cell_type": "markdown",
      "metadata": {},
      "source": [
        "### Removing\n"
      ],
      "id": "8b7a7c5f"
    },
    {
      "cell_type": "code",
      "metadata": {},
      "source": [
        "df = df.dropna(subset=['Gender'])"
      ],
      "id": "4dd6745e",
      "execution_count": null,
      "outputs": []
    },
    {
      "cell_type": "markdown",
      "metadata": {},
      "source": [
        "## Outlier Detection and Treatment\n"
      ],
      "id": "eb68424f"
    },
    {
      "cell_type": "code",
      "metadata": {},
      "source": [
        "Q1 = df['Income'].quantile(0.25)\n",
        "Q3 = df['Income'].quantile(0.75)\n",
        "IQR = Q3 - Q1\n",
        "lower_bound = Q1 - 1.5 * IQR\n",
        "upper_bound = Q3 + 1.5 * IQR"
      ],
      "id": "11d2cfc7",
      "execution_count": null,
      "outputs": []
    },
    {
      "cell_type": "markdown",
      "metadata": {},
      "source": [
        "df.loc[df['Income'] > upper_bound, 'Income'] = upper_bound\n",
        "df.loc[df['Income'] < lower_bound, 'Income'] = lower_bound\n",
        "\n",
        "## Data Transformation\n",
        "## Normalizing: 0 ≤ x ≤ 1\n",
        "## Standardizing: mean=0, sd=1\n",
        "## Before encoding\n",
        "## Encoding: M->0, F->1\n",
        "## After encoding"
      ],
      "id": "5ab71723"
    }
  ],
  "metadata": {
    "kernelspec": {
      "name": "python3",
      "language": "python",
      "display_name": "Python 3 (ipykernel)",
      "path": "/Users/homebase/Library/Python/3.9/share/jupyter/kernels/python3"
    }
  },
  "nbformat": 4,
  "nbformat_minor": 5
}