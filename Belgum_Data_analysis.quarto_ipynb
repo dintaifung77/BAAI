{
  "cells": [
    {
      "cell_type": "markdown",
      "metadata": {},
      "source": [
        "---\n",
        "title: 'Data Analysis'\n",
        "author: 'Zachary Belgum'\n",
        "Institute: 'Tunghai University' \n",
        "number-sections: true\n",
        "toc: true\n",
        "execute:\n",
        "    daemon: true\n",
        "format: \n",
        "    html:\n",
        "         embed-resources: true\n",
        "---\n",
        "\n",
        "\n",
        "## Key Points\n",
        "\n",
        "- Data loading\n",
        "- Data inspection\n",
        "    - Structure\n",
        "    - Value\n",
        "- Data Cleaning\n",
        "    - Dealing with missing data\n",
        "    - Detect outliers\n",
        "- Data transformation\n",
        "    - Encoding\n",
        "\n",
        "Removing Duplicates\n",
        "\n",
        "## Load Dataset\n",
        "\n",
        "Load dataset from CSV file into df using pandas\n"
      ],
      "id": "53daee4f"
    },
    {
      "cell_type": "code",
      "metadata": {},
      "source": [
        "import pandas as pd\n",
        "df = pd.read_csv('customer_data.csv')"
      ],
      "id": "6aa068ef",
      "execution_count": null,
      "outputs": []
    },
    {
      "cell_type": "markdown",
      "metadata": {},
      "source": [
        "## Data Inspection\n",
        "\n",
        "### Dimensions of dataset\n"
      ],
      "id": "7343a72d"
    },
    {
      "cell_type": "code",
      "metadata": {},
      "source": [
        "df.shape"
      ],
      "id": "7ba09bb1",
      "execution_count": null,
      "outputs": []
    },
    {
      "cell_type": "markdown",
      "metadata": {},
      "source": [
        "### Column Data type\n"
      ],
      "id": "c2828aa3"
    },
    {
      "cell_type": "code",
      "metadata": {},
      "source": [
        "df.info()"
      ],
      "id": "7d6af501",
      "execution_count": null,
      "outputs": []
    },
    {
      "cell_type": "markdown",
      "metadata": {},
      "source": [
        "## Check first few rows\n"
      ],
      "id": "20a93398"
    },
    {
      "cell_type": "code",
      "metadata": {},
      "source": [
        "df.head()"
      ],
      "id": "125b3634",
      "execution_count": null,
      "outputs": []
    },
    {
      "cell_type": "markdown",
      "metadata": {},
      "source": [
        "## Check last few rows\n"
      ],
      "id": "e48a0dac"
    },
    {
      "cell_type": "code",
      "metadata": {},
      "source": [
        "df.tail()"
      ],
      "id": "d2310d64",
      "execution_count": null,
      "outputs": []
    },
    {
      "cell_type": "markdown",
      "metadata": {},
      "source": [
        "## Basic statistics\n"
      ],
      "id": "41e79296"
    },
    {
      "cell_type": "code",
      "metadata": {},
      "source": [
        "df.describe()"
      ],
      "id": "79c5c9df",
      "execution_count": null,
      "outputs": []
    },
    {
      "cell_type": "markdown",
      "metadata": {},
      "source": [
        "## Round to 2 decimal points\n"
      ],
      "id": "7a384a9d"
    },
    {
      "cell_type": "code",
      "metadata": {},
      "source": [
        "df.describe().round(2)"
      ],
      "id": "4ddb8af0",
      "execution_count": null,
      "outputs": []
    },
    {
      "cell_type": "markdown",
      "metadata": {},
      "source": [
        "## Dataset\n"
      ],
      "id": "ecfe6375"
    },
    {
      "cell_type": "code",
      "metadata": {},
      "source": [
        "#| echo: false\n",
        "df"
      ],
      "id": "d9588b83",
      "execution_count": null,
      "outputs": []
    },
    {
      "cell_type": "markdown",
      "metadata": {},
      "source": [
        "## Visualization\n",
        "## Correlation among columns\n"
      ],
      "id": "de687897"
    },
    {
      "cell_type": "code",
      "metadata": {},
      "source": [
        "df.plot.scatter(x = 'Age', y = 'Income')\n",
        "plt.show()\n",
        "# import seaborn as sns\n",
        "# sns.pairplot(df)"
      ],
      "id": "4368fe54",
      "execution_count": null,
      "outputs": []
    },
    {
      "cell_type": "markdown",
      "metadata": {},
      "source": [
        "## Data Cleaning\n"
      ],
      "id": "4868143a"
    },
    {
      "cell_type": "code",
      "metadata": {},
      "source": [
        "df = df.drop_duplicates(subset='CustomerID')"
      ],
      "id": "4d1b8c17",
      "execution_count": null,
      "outputs": []
    },
    {
      "cell_type": "markdown",
      "metadata": {},
      "source": [
        "## Dealing with Missing Data\n",
        "\n",
        "### Imputing\n"
      ],
      "id": "f6e6b97b"
    },
    {
      "cell_type": "code",
      "metadata": {},
      "source": [
        "df.loc[df['Age'].isna(), 'Age'] = df['Age'].median()\n",
        "df.loc[df['Income'].isna(), 'Income'] = df['Income'].mean()"
      ],
      "id": "fd85c9e3",
      "execution_count": null,
      "outputs": []
    },
    {
      "cell_type": "markdown",
      "metadata": {},
      "source": [
        "### Removing\n"
      ],
      "id": "fc24fa46"
    },
    {
      "cell_type": "code",
      "metadata": {},
      "source": [
        "df = df.dropna(subset=['Gender'])"
      ],
      "id": "af4afadf",
      "execution_count": null,
      "outputs": []
    },
    {
      "cell_type": "markdown",
      "metadata": {},
      "source": [
        "## Outlier Detection and Treatment\n"
      ],
      "id": "4598368c"
    },
    {
      "cell_type": "code",
      "metadata": {},
      "source": [
        "Q1 = df['Income'].quantile(0.25)\n",
        "Q3 = df['Income'].quantile(0.75)\n",
        "IQR = Q3 - Q1\n",
        "lower_bound = Q1 - 1.5 * IQR\n",
        "upper_bound = Q3 + 1.5 * IQR"
      ],
      "id": "36973859",
      "execution_count": null,
      "outputs": []
    },
    {
      "cell_type": "markdown",
      "metadata": {},
      "source": [
        "df.loc[df['Income'] > upper_bound, 'Income'] = upper_bound\n",
        "df.loc[df['Income'] < lower_bound, 'Income'] = lower_bound\n",
        "\n",
        "## Data Transformation\n",
        "\n",
        "\n",
        "## Before encoding\n",
        "\n",
        "## Encoding: M->0, F->1\n",
        "\n",
        "## After encoding"
      ],
      "id": "6527b2b5"
    }
  ],
  "metadata": {
    "kernelspec": {
      "name": "python3",
      "language": "python",
      "display_name": "Python 3 (ipykernel)",
      "path": "/Users/homebase/Library/Python/3.9/share/jupyter/kernels/python3"
    }
  },
  "nbformat": 4,
  "nbformat_minor": 5
}