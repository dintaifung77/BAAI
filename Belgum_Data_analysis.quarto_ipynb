{
  "cells": [
    {
      "cell_type": "markdown",
      "metadata": {},
      "source": [
        "---\n",
        "title: 'Data Analysis'\n",
        "author: 'Zachary Belgum'\n",
        "Institute: 'Tunghai University' \n",
        "number-sections: true\n",
        "toc: true\n",
        "execute:\n",
        "    daemon: true\n",
        "format: \n",
        "    html:\n",
        "         embed-resources: true\n",
        "---\n",
        "\n",
        "\n",
        "## Key Points\n",
        "\n",
        "- Data loading\n",
        "- Data inspection\n",
        "    - Structure\n",
        "    - Value\n",
        "- Data Cleaning\n",
        "    - Dealing with missing data\n",
        "    - Detect outliers\n",
        "- Data transformation\n",
        "    - Encoding\n",
        "\n",
        "Removing Duplicates\n",
        "\n",
        "## Load Dataset\n",
        "\n",
        "Load dataset from CSV file into df using pandas\n"
      ],
      "id": "8b7dbcf0"
    },
    {
      "cell_type": "code",
      "metadata": {},
      "source": [
        "import pandas as pd\n",
        "df = pd.read_csv('customer_data.csv')"
      ],
      "id": "458e4ea5",
      "execution_count": null,
      "outputs": []
    },
    {
      "cell_type": "markdown",
      "metadata": {},
      "source": [
        "## Data Inspection\n",
        "\n",
        "- Structure\n",
        "    - Dimension of dataset\n",
        "    - Column data type\n",
        "- Value\n",
        "    - Missing value\n",
        "    - Outliers\n",
        "\n",
        "### Dimensions of dataset\n"
      ],
      "id": "87b0a311"
    },
    {
      "cell_type": "code",
      "metadata": {},
      "source": [
        "df.shape"
      ],
      "id": "19f46693",
      "execution_count": null,
      "outputs": []
    },
    {
      "cell_type": "markdown",
      "metadata": {},
      "source": [
        "### Column Data type\n"
      ],
      "id": "9c17d8ed"
    },
    {
      "cell_type": "code",
      "metadata": {},
      "source": [
        "df.info()"
      ],
      "id": "c567daa4",
      "execution_count": null,
      "outputs": []
    },
    {
      "cell_type": "markdown",
      "metadata": {},
      "source": [
        "## Check first few rows\n"
      ],
      "id": "186c4409"
    },
    {
      "cell_type": "code",
      "metadata": {},
      "source": [
        "df.head()"
      ],
      "id": "fc3b7580",
      "execution_count": null,
      "outputs": []
    },
    {
      "cell_type": "markdown",
      "metadata": {},
      "source": [
        "## Check last few rows\n"
      ],
      "id": "f90592b5"
    },
    {
      "cell_type": "code",
      "metadata": {},
      "source": [
        "df.tail()"
      ],
      "id": "3820bcf4",
      "execution_count": null,
      "outputs": []
    },
    {
      "cell_type": "markdown",
      "metadata": {},
      "source": [
        "## Basic statistics\n"
      ],
      "id": "14082dcb"
    },
    {
      "cell_type": "code",
      "metadata": {},
      "source": [
        "df.describe()"
      ],
      "id": "c64f450c",
      "execution_count": null,
      "outputs": []
    },
    {
      "cell_type": "markdown",
      "metadata": {},
      "source": [
        "## Round to 2 decimal points\n"
      ],
      "id": "2ff0c58a"
    },
    {
      "cell_type": "code",
      "metadata": {},
      "source": [
        "df.describe().round(2)"
      ],
      "id": "8e1ebba6",
      "execution_count": null,
      "outputs": []
    },
    {
      "cell_type": "markdown",
      "metadata": {},
      "source": [
        "## Dataset\n"
      ],
      "id": "7fbdda29"
    },
    {
      "cell_type": "code",
      "metadata": {},
      "source": [
        "#| echo: false\n",
        "df"
      ],
      "id": "275838a4",
      "execution_count": null,
      "outputs": []
    },
    {
      "cell_type": "markdown",
      "metadata": {},
      "source": [
        "## Visualization\n"
      ],
      "id": "9874acfb"
    },
    {
      "cell_type": "code",
      "metadata": {},
      "source": [
        "import matplotlib.pylab as plt\n",
        "df['Age'].hist()\n",
        "plt.show()"
      ],
      "id": "41122a88",
      "execution_count": null,
      "outputs": []
    },
    {
      "cell_type": "markdown",
      "metadata": {},
      "source": [
        "## Correlation among columns\n"
      ],
      "id": "b9a05bfd"
    },
    {
      "cell_type": "code",
      "metadata": {},
      "source": [
        "df.plot.scatter(x = 'Age', y = 'Income')\n",
        "plt.show()\n",
        "# import seaborn as sns\n",
        "# sns.pairplot(df)"
      ],
      "id": "e6c86160",
      "execution_count": null,
      "outputs": []
    },
    {
      "cell_type": "markdown",
      "metadata": {},
      "source": [
        "## Data Cleaning\n"
      ],
      "id": "5035c512"
    },
    {
      "cell_type": "code",
      "metadata": {},
      "source": [
        "df = df.drop_duplicates(subset='CustomerID')"
      ],
      "id": "598efec0",
      "execution_count": null,
      "outputs": []
    },
    {
      "cell_type": "markdown",
      "metadata": {},
      "source": [
        "## Dealing with Missing Data\n",
        "\n",
        "- Imputing\n"
      ],
      "id": "e7818803"
    },
    {
      "cell_type": "code",
      "metadata": {},
      "source": [
        "df.loc[df['Age'].isna(), 'Age'] = df['Age'].median()\n",
        "df.loc[df['Income'].isna(), 'Income'] = df['Income'].mean()"
      ],
      "id": "f9f0e9fc",
      "execution_count": null,
      "outputs": []
    },
    {
      "cell_type": "markdown",
      "metadata": {},
      "source": [
        "- Removing\n"
      ],
      "id": "08f8b94d"
    },
    {
      "cell_type": "code",
      "metadata": {},
      "source": [
        "df = df.dropna(subset=['Gender'])"
      ],
      "id": "076f1002",
      "execution_count": null,
      "outputs": []
    },
    {
      "cell_type": "markdown",
      "metadata": {},
      "source": [
        "## Outlier Detection and Treatment\n"
      ],
      "id": "4868fee3"
    },
    {
      "cell_type": "code",
      "metadata": {},
      "source": [
        "Q1 = df['Income'].quantile(0.25)\n",
        "Q3 = df['Income'].quantile(0.75)\n",
        "IQR = Q3 - Q1\n",
        "lower_bound = Q1 - 1.5 * IQR\n",
        "upper_bound = Q3 + 1.5 * IQR"
      ],
      "id": "c494216d",
      "execution_count": null,
      "outputs": []
    },
    {
      "cell_type": "code",
      "metadata": {},
      "source": [
        "df.loc[df['Income'] > upper_bound, 'Income'] = upper_bound\n",
        "df.loc[df['Income'] < lower_bound, 'Income'] = lower_bound"
      ],
      "id": "d762b494",
      "execution_count": null,
      "outputs": []
    },
    {
      "cell_type": "markdown",
      "metadata": {},
      "source": [
        "## Data Transformation\n",
        "\n",
        "## Before encoding\n"
      ],
      "id": "bf49b74f"
    },
    {
      "cell_type": "code",
      "metadata": {},
      "source": [
        "df.loc[:,'Gender_encoded'] = df['Gender'].map({'M': 0, 'F': 1})"
      ],
      "id": "e40f0af2",
      "execution_count": null,
      "outputs": []
    },
    {
      "cell_type": "markdown",
      "metadata": {},
      "source": [
        "## After encoding\n"
      ],
      "id": "bb212c79"
    },
    {
      "cell_type": "code",
      "metadata": {},
      "source": [
        "#| echo: false\n",
        "df"
      ],
      "id": "036f92bf",
      "execution_count": null,
      "outputs": []
    }
  ],
  "metadata": {
    "kernelspec": {
      "name": "python3",
      "language": "python",
      "display_name": "Python 3 (ipykernel)",
      "path": "/Users/homebase/BAAI-2/BAAI-1/venv/share/jupyter/kernels/python3"
    }
  },
  "nbformat": 4,
  "nbformat_minor": 5
}